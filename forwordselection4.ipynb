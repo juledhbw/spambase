{
 "cells": [
  {
   "cell_type": "code",
   "execution_count": 2,
   "metadata": {},
   "outputs": [
    {
     "name": "stdout",
     "output_type": "stream",
     "text": [
      "Bestes Set von Features: ['word_freq_your', 'word_freq_000', 'word_freq_remove', 'capital_run_length_total', 'word_freq_free', 'char_freq_!', 'word_freq_hp', 'word_freq_our', 'char_freq_$', 'word_freq_internet', 'word_freq_money', 'word_freq_over', 'word_freq_credit', 'word_freq_font', 'word_freq_meeting', 'word_freq_email', 'word_freq_george', 'word_freq_edu', 'char_freq_;', 'word_freq_re', 'word_freq_you', 'word_freq_data', 'word_freq_order', 'word_freq_hpl', 'word_freq_will', 'word_freq_business', 'word_freq_1999', 'word_freq_project', 'word_freq_all', 'word_freq_3d', 'word_freq_conference', 'word_freq_table', 'word_freq_original', 'word_freq_make', 'word_freq_address', 'word_freq_85', 'capital_run_length_average', 'word_freq_direct', 'word_freq_labs', 'word_freq_receive', 'char_freq_#', 'word_freq_parts', 'word_freq_mail', 'char_freq_(']\n",
      "44\n"
     ]
    }
   ],
   "source": [
    "import statsmodels.api as sm\n",
    "import pandas as pd\n",
    "\n",
    "# Spalten Namen einbeziehn \n",
    "colums = ['word_freq_make', 'word_freq_address', 'word_freq_all', 'word_freq_3d', 'word_freq_our', 'word_freq_over', 'word_freq_remove', 'word_freq_internet', 'word_freq_order', 'word_freq_mail', 'word_freq_receive', 'word_freq_will', 'word_freq_people', 'word_freq_report', 'word_freq_addresses', 'word_freq_free', 'word_freq_business', 'word_freq_email', 'word_freq_you', 'word_freq_credit', 'word_freq_your', 'word_freq_font', 'word_freq_000', 'word_freq_money', 'word_freq_hp', 'word_freq_hpl', 'word_freq_george', 'word_freq_650', 'word_freq_lab', 'word_freq_labs', 'word_freq_telnet', 'word_freq_857', 'word_freq_data', 'word_freq_415', 'word_freq_85', 'word_freq_technology', 'word_freq_1999', 'word_freq_parts', 'word_freq_pm', 'word_freq_direct', 'word_freq_cs', 'word_freq_meeting', 'word_freq_original', 'word_freq_project', 'word_freq_re', 'word_freq_edu', 'word_freq_table', 'word_freq_conference', 'char_freq_;', 'char_freq_(', 'char_freq_[', 'char_freq_!', 'char_freq_$', 'char_freq_#', 'capital_run_length_average', 'capital_run_length_longest', 'capital_run_length_total', 'class']\n",
    "\n",
    "# Laden der Daten\n",
    "data = pd.read_csv('spambase.data', names=colums)\n",
    "\n",
    "# Trennung der Zielvariable und der Features\n",
    "X = data.drop(columns='class')\n",
    "y = data['class']\n",
    "\n",
    "# Liste aller Features\n",
    "all_features = list(X.columns)\n",
    "\n",
    "# Vorab-Initialisierung der besten Features\n",
    "best_features = []\n",
    "\n",
    "# Forward Selection\n",
    "while len(all_features) > 0:\n",
    "    p_values = []\n",
    "    for feature in all_features:\n",
    "        features_to_try = best_features + [feature]\n",
    "        X_try = sm.add_constant(X[features_to_try])\n",
    "        model = sm.OLS(y, X_try).fit()\n",
    "        p_value = model.pvalues[feature]\n",
    "        p_values.append((feature, p_value))\n",
    "    best_feature, best_p_value = min(p_values, key=lambda x: x[1])\n",
    "    if best_p_value < 0.05:\n",
    "        best_features.append(best_feature)\n",
    "        all_features.remove(best_feature)\n",
    "    else:\n",
    "        break\n",
    "\n",
    "\n",
    "# Ausgabe des besten Sets von Features\n",
    "print('Bestes Set von Features:', best_features)\n",
    "print(len(best_features))\n"
   ]
  }
 ],
 "metadata": {
  "kernelspec": {
   "display_name": "Python 3",
   "language": "python",
   "name": "python3"
  },
  "language_info": {
   "codemirror_mode": {
    "name": "ipython",
    "version": 3
   },
   "file_extension": ".py",
   "mimetype": "text/x-python",
   "name": "python",
   "nbconvert_exporter": "python",
   "pygments_lexer": "ipython3",
   "version": "3.10.11"
  },
  "orig_nbformat": 4
 },
 "nbformat": 4,
 "nbformat_minor": 2
}
