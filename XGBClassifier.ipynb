{
 "cells": [
  {
   "cell_type": "code",
   "execution_count": 112,
   "metadata": {},
   "outputs": [],
   "source": [
    "from xgboost import XGBClassifier\n",
    "from sklearn.model_selection import cross_validate\n",
    "from sklearn.metrics import accuracy_score, precision_score, make_scorer\n",
    "from sklearn import metrics\n",
    "from sklearn.model_selection import cross_val_predict\n",
    "from sklearn.metrics import confusion_matrix\n",
    "import numpy as np\n",
    "import pandas as pd"
   ]
  },
  {
   "attachments": {},
   "cell_type": "markdown",
   "metadata": {},
   "source": [
    "Benchmark bei nicht modifizierter Anwendung von XGBoost"
   ]
  },
  {
   "attachments": {},
   "cell_type": "markdown",
   "metadata": {},
   "source": [
    "Declare X as the predictor columns and y as the target column, where the\n",
    "last row is the target column\n"
   ]
  },
  {
   "cell_type": "code",
   "execution_count": 113,
   "metadata": {},
   "outputs": [],
   "source": [
    "df = pd.read_csv('spambase.data', header=None)\n",
    "Y=df[57]\n",
    "X=df.drop([57],axis=1)\n"
   ]
  },
  {
   "attachments": {},
   "cell_type": "markdown",
   "metadata": {},
   "source": [
    "Initialize XGBClassifier with the booster='gbtree' and\n",
    "objective='binary:logistic' defaults along with\n",
    "random_state=2"
   ]
  },
  {
   "cell_type": "code",
   "execution_count": 114,
   "metadata": {},
   "outputs": [],
   "source": [
    "model = XGBClassifier(random_state=2)"
   ]
  },
  {
   "cell_type": "code",
   "execution_count": 115,
   "metadata": {},
   "outputs": [
    {
     "name": "stdout",
     "output_type": "stream",
     "text": [
      "Accuracy: [95.22 94.67 95.22 97.39 83.26]\n",
      "Accuracy mean: 93.15\n",
      "---\n",
      "Precision: [95.44 95.64 92.76 97.47 74.76]\n",
      "Precision mean: 91.22\n"
     ]
    }
   ],
   "source": [
    "\n",
    "scorers = {\n",
    "    'accuracy': make_scorer(accuracy_score),\n",
    "    'precision': make_scorer(precision_score)\n",
    "}\n",
    "\n",
    "scores = cross_validate(model, X, Y, cv=5, scoring=scorers)\n",
    "\n",
    "accuracy_scores = scores['test_accuracy']\n",
    "precision_scores = scores['test_precision']\n",
    "\n",
    "print('Accuracy:', np.round(scores['test_accuracy']*100, 2))\n",
    "print('Accuracy mean: %0.2f' % (scores['test_accuracy'].mean()*100))\n",
    "print('---')\n",
    "print('Precision:', np.round(scores['test_precision']*100, 2))\n",
    "print('Precision mean: %0.2f' % (scores['test_precision'].mean()*100))"
   ]
  },
  {
   "attachments": {},
   "cell_type": "markdown",
   "metadata": {},
   "source": [
    "Confusion Matrix"
   ]
  },
  {
   "cell_type": "code",
   "execution_count": 116,
   "metadata": {},
   "outputs": [
    {
     "data": {
      "image/png": "[encoded data removed]",
      "text/plain": [
       "<Figure size 432x288 with 2 Axes>"
      ]
     },
     "metadata": {
      "needs_background": "light"
     },
     "output_type": "display_data"
    }
   ],
   "source": [
    "\n",
    "# Verwende cross_val_predict, um Vorhersagen für jeden Fold zu erhalten\n",
    "y_pred = cross_val_predict(model, X, Y, cv=5)\n",
    "\n",
    "# Berechne die Confusion Matrix\n",
    "cm = confusion_matrix(Y, y_pred)\n",
    "#print(\"Confusion Matrix:\")\n",
    "#print(cm)\n",
    "\n",
    "#cm = metrics.confusion_matrix(y_test, y_pred, labels=model.classes_)\n",
    "disp = metrics.ConfusionMatrixDisplay(confusion_matrix=cm,\n",
    "                              display_labels={'ham','spam'})\n",
    "disp.plot()\n",
    "\n",
    "plt.show()\n"
   ]
  },
  {
   "attachments": {},
   "cell_type": "markdown",
   "metadata": {},
   "source": [
    "Benchmark bei Verwendung von modifizierten Datensätzen"
   ]
  },
  {
   "attachments": {},
   "cell_type": "markdown",
   "metadata": {},
   "source": [
    "Einlesen der vorbereiteten Datensätze"
   ]
  },
  {
   "cell_type": "code",
   "execution_count": 117,
   "metadata": {},
   "outputs": [],
   "source": [
    "df = pd.read_csv('selected_data_44.csv', header=None)\n",
    "Y=df[45]\n",
    "X=df.drop([45],axis=1)\n"
   ]
  },
  {
   "cell_type": "code",
   "execution_count": 118,
   "metadata": {},
   "outputs": [],
   "source": [
    "model = XGBClassifier(random_state=2)"
   ]
  },
  {
   "cell_type": "code",
   "execution_count": 119,
   "metadata": {},
   "outputs": [
    {
     "name": "stdout",
     "output_type": "stream",
     "text": [
      "Accuracy: [ 69.71 100.   100.   100.    80.33]\n",
      "Accuracy mean: 90.01\n",
      "---\n",
      "Precision: [ 56.54 100.   100.   100.   100.  ]\n",
      "Precision mean: 91.31\n"
     ]
    }
   ],
   "source": [
    "\n",
    "scorers = {\n",
    "    'accuracy': make_scorer(accuracy_score),\n",
    "    'precision': make_scorer(precision_score)\n",
    "}\n",
    "\n",
    "scores = cross_validate(model, X, Y, cv=5, scoring=scorers)\n",
    "\n",
    "accuracy_scores = scores['test_accuracy']\n",
    "precision_scores = scores['test_precision']\n",
    "\n",
    "print('Accuracy:', np.round(scores['test_accuracy']*100, 2))\n",
    "print('Accuracy mean: %0.2f' % (scores['test_accuracy'].mean()*100))\n",
    "print('---')\n",
    "print('Precision:', np.round(scores['test_precision']*100, 2))\n",
    "print('Precision mean: %0.2f' % (scores['test_precision'].mean()*100))\n",
    "\n",
    "\n"
   ]
  },
  {
   "cell_type": "code",
   "execution_count": 120,
   "metadata": {},
   "outputs": [
    {
     "data": {
      "image/png": "[encoded data removed]",
      "text/plain": [
       "<Figure size 432x288 with 2 Axes>"
      ]
     },
     "metadata": {
      "needs_background": "light"
     },
     "output_type": "display_data"
    }
   ],
   "source": [
    "\n",
    "# Verwende cross_val_predict, um Vorhersagen für jeden Fold zu erhalten\n",
    "y_pred = cross_val_predict(model, X, Y, cv=5)\n",
    "\n",
    "# Berechne die Confusion Matrix\n",
    "cm = confusion_matrix(Y, y_pred)\n",
    "#print(\"Confusion Matrix:\")\n",
    "#print(cm)\n",
    "\n",
    "#cm = metrics.confusion_matrix(y_test, y_pred, labels=model.classes_)\n",
    "disp = metrics.ConfusionMatrixDisplay(confusion_matrix=cm,\n",
    "                              display_labels={'ham','spam'})\n",
    "disp.plot()\n",
    "\n",
    "plt.show()"
   ]
  },
  {
   "attachments": {},
   "cell_type": "markdown",
   "metadata": {},
   "source": [
    "Benchmark bei modifizierter Anwendung von XGBoost"
   ]
  },
  {
   "cell_type": "code",
   "execution_count": 121,
   "metadata": {},
   "outputs": [],
   "source": [
    "df = pd.read_csv('spambase.data', header=None)\n",
    "Y=df[57]\n",
    "X=df.drop([57],axis=1)\n",
    "\n",
    "model = XGBClassifier(random_state=2, n_estimators=500, learning_rate= 0.03, max_depth=2, colsample_bytree=0.3)\n",
    "\n"
   ]
  },
  {
   "cell_type": "code",
   "execution_count": 122,
   "metadata": {},
   "outputs": [
    {
     "name": "stdout",
     "output_type": "stream",
     "text": [
      "Accuracy: [95.77 94.13 95.54 96.85 85.  ]\n",
      "Accuracy mean: 93.46\n",
      "---\n",
      "Precision: [96.02 96.68 94.48 98.54 77.59]\n",
      "Precision mean: 92.66\n"
     ]
    }
   ],
   "source": [
    "scorers = {\n",
    "    'accuracy': make_scorer(accuracy_score),\n",
    "    'precision': make_scorer(precision_score)\n",
    "}\n",
    "\n",
    "scores = cross_validate(model, X, Y, cv=5, scoring=scorers)\n",
    "\n",
    "accuracy_scores = scores['test_accuracy']\n",
    "precision_scores = scores['test_precision']\n",
    "\n",
    "print('Accuracy:', np.round(scores['test_accuracy']*100, 2))\n",
    "print('Accuracy mean: %0.2f' % (scores['test_accuracy'].mean()*100))\n",
    "print('---')\n",
    "print('Precision:', np.round(scores['test_precision']*100, 2))\n",
    "print('Precision mean: %0.2f' % (scores['test_precision'].mean()*100))"
   ]
  },
  {
   "cell_type": "code",
   "execution_count": 123,
   "metadata": {},
   "outputs": [
    {
     "data": {
      "image/png": "[encoded data removed]",
      "text/plain": [
       "<Figure size 432x288 with 2 Axes>"
      ]
     },
     "metadata": {
      "needs_background": "light"
     },
     "output_type": "display_data"
    }
   ],
   "source": [
    "# Verwende cross_val_predict, um Vorhersagen für jeden Fold zu erhalten\n",
    "y_pred = cross_val_predict(model, X, Y, cv=5)\n",
    "\n",
    "# Berechne die Confusion Matrix\n",
    "cm = confusion_matrix(Y, y_pred)\n",
    "#print(\"Confusion Matrix:\")\n",
    "#print(cm)\n",
    "\n",
    "#cm = metrics.confusion_matrix(y_test, y_pred, labels=model.classes_)\n",
    "disp = metrics.ConfusionMatrixDisplay(confusion_matrix=cm,\n",
    "                              display_labels={'ham','spam'})\n",
    "disp.plot()\n",
    "\n",
    "plt.show()"
   ]
  },
  {
   "attachments": {},
   "cell_type": "markdown",
   "metadata": {},
   "source": [
    "Benchmark bei modifizierter Anwendung von XGBoost und modifizierter Daten"
   ]
  },
  {
   "attachments": {},
   "cell_type": "markdown",
   "metadata": {},
   "source": [
    "44 Features"
   ]
  },
  {
   "cell_type": "code",
   "execution_count": 124,
   "metadata": {},
   "outputs": [
    {
     "name": "stdout",
     "output_type": "stream",
     "text": [
      "Accuracy: [95.33 98.48 99.02 99.57 90.98]\n",
      "Accuracy mean: 96.67\n",
      "---\n",
      "Precision: [91.45 98.34 98.9  99.72 93.46]\n",
      "Precision mean: 96.37\n"
     ]
    }
   ],
   "source": [
    "df = pd.read_csv('selected_data_44.csv', header=None)\n",
    "Y=df[45]\n",
    "X=df.drop([45],axis=1)\n",
    "\n",
    "model = XGBClassifier(random_state=2, n_estimators=100, learning_rate= 0.03, max_depth=8, colsample_bytree=0.3 )\n",
    "\n",
    "scorers = {\n",
    "    'accuracy': make_scorer(accuracy_score),\n",
    "    'precision': make_scorer(precision_score)\n",
    "}\n",
    "\n",
    "scores = cross_validate(model, X, Y, cv=5, scoring=scorers)\n",
    "\n",
    "accuracy_scores = scores['test_accuracy']\n",
    "precision_scores = scores['test_precision']\n",
    "\n",
    "print('Accuracy:', np.round(scores['test_accuracy']*100, 2))\n",
    "print('Accuracy mean: %0.2f' % (scores['test_accuracy'].mean()*100))\n",
    "print('---')\n",
    "print('Precision:', np.round(scores['test_precision']*100, 2))\n",
    "print('Precision mean: %0.2f' % (scores['test_precision'].mean()*100))\n",
    "\n",
    "cv_results = scores"
   ]
  },
  {
   "cell_type": "code",
   "execution_count": 125,
   "metadata": {},
   "outputs": [
    {
     "data": {
      "image/png": "[encoded data removed]",
      "text/plain": [
       "<Figure size 432x288 with 2 Axes>"
      ]
     },
     "metadata": {
      "needs_background": "light"
     },
     "output_type": "display_data"
    }
   ],
   "source": [
    "# Verwende cross_val_predict, um Vorhersagen für jeden Fold zu erhalten\n",
    "y_pred = cross_val_predict(model, X, Y, cv=5)\n",
    "\n",
    "# Berechne die Confusion Matrix\n",
    "cm = confusion_matrix(Y, y_pred)\n",
    "#print(\"Confusion Matrix:\")\n",
    "#print(cm)\n",
    "\n",
    "#cm = metrics.confusion_matrix(y_test, y_pred, labels=model.classes_)\n",
    "disp = metrics.ConfusionMatrixDisplay(confusion_matrix=cm,\n",
    "                              display_labels={'ham','spam'})\n",
    "disp.plot()\n",
    "\n",
    "plt.show()"
   ]
  },
  {
   "attachments": {},
   "cell_type": "markdown",
   "metadata": {},
   "source": [
    "37 Features"
   ]
  },
  {
   "cell_type": "code",
   "execution_count": 126,
   "metadata": {},
   "outputs": [
    {
     "name": "stdout",
     "output_type": "stream",
     "text": [
      "Accuracy: [90.88 99.46 99.46 99.89 92.17]\n",
      "Accuracy mean: 96.37\n",
      "---\n",
      "Precision: [81.92 98.91 98.91 99.72 97.08]\n",
      "Precision mean: 95.31\n"
     ]
    }
   ],
   "source": [
    "df = pd.read_csv('selected_data_37.csv', header=None)\n",
    "Y=df[38]\n",
    "X=df.drop([38],axis=1)\n",
    "\n",
    "model = XGBClassifier(random_state=2, n_estimators=100, learning_rate= 0.06, max_depth=8, colsample_bytree=0.3)\n",
    "\n",
    "scorers = {\n",
    "    'accuracy': make_scorer(accuracy_score),\n",
    "    'precision': make_scorer(precision_score)\n",
    "}\n",
    "\n",
    "scores = cross_validate(model, X, Y, cv=5, scoring=scorers)\n",
    "\n",
    "accuracy_scores = scores['test_accuracy']\n",
    "precision_scores = scores['test_precision']\n",
    "\n",
    "print('Accuracy:', np.round(scores['test_accuracy']*100, 2))\n",
    "print('Accuracy mean: %0.2f' % (scores['test_accuracy'].mean()*100))\n",
    "print('---')\n",
    "print('Precision:', np.round(scores['test_precision']*100, 2))\n",
    "print('Precision mean: %0.2f' % (scores['test_precision'].mean()*100))"
   ]
  },
  {
   "cell_type": "code",
   "execution_count": 127,
   "metadata": {},
   "outputs": [
    {
     "data": {
      "image/png": "[encoded data removed]",
      "text/plain": [
       "<Figure size 432x288 with 2 Axes>"
      ]
     },
     "metadata": {
      "needs_background": "light"
     },
     "output_type": "display_data"
    }
   ],
   "source": [
    "# Verwende cross_val_predict, um Vorhersagen für jeden Fold zu erhalten\n",
    "y_pred = cross_val_predict(model, X, Y, cv=5)\n",
    "\n",
    "# Berechne die Confusion Matrix\n",
    "cm = confusion_matrix(Y, y_pred)\n",
    "#print(\"Confusion Matrix:\")\n",
    "#print(cm)\n",
    "\n",
    "#cm = metrics.confusion_matrix(y_test, y_pred, labels=model.classes_)\n",
    "disp = metrics.ConfusionMatrixDisplay(confusion_matrix=cm,\n",
    "                              display_labels={'ham','spam'})\n",
    "disp.plot()\n",
    "\n",
    "plt.show()"
   ]
  }
 ],
 "metadata": {
  "kernelspec": {
   "display_name": "Python 3",
   "language": "python",
   "name": "python3"
  },
  "language_info": {
   "codemirror_mode": {
    "name": "ipython",
    "version": 3
   },
   "file_extension": ".py",
   "mimetype": "text/x-python",
   "name": "python",
   "nbconvert_exporter": "python",
   "pygments_lexer": "ipython3",
   "version": "3.10.11"
  },
  "orig_nbformat": 4
 },
 "nbformat": 4,
 "nbformat_minor": 2
}
