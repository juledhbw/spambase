{
 "cells": [
  {
   "cell_type": "code",
   "execution_count": 11,
   "metadata": {},
   "outputs": [
    {
     "name": "stdout",
     "output_type": "stream",
     "text": [
      "Optimization terminated successfully.\n",
      "         Current function value: 0.197323\n",
      "         Iterations 15\n",
      "Ausgewählte Features: [0, 1, 2, 3, 4, 5, 6, 7, 8, 9, 10, 11, 12, 13, 14, 15, 16, 17, 18, 19, 20, 21, 22, 23, 24, 25, 26, 27, 28, 29, 30, 31, 32, 33, 34, 35, 36, 37, 38, 39, 40, 41, 42, 43, 44, 45, 46, 47, 48, 49, 50, 51, 52, 53, 54, 55, 56]\n",
      "Anzahl der ausgewählten Features: 57\n"
     ]
    }
   ],
   "source": [
    "import statsmodels.api as sm\n",
    "import pandas as pd\n",
    "import numpy as np\n",
    "\n",
    "# Spalten Namen einbeziehn\n",
    "columns = ['word_freq_make', 'word_freq_address', 'word_freq_all', 'word_freq_3d', 'word_freq_our', 'word_freq_over', 'word_freq_remove', 'word_freq_internet', 'word_freq_order', 'word_freq_mail', 'word_freq_receive', 'word_freq_will', 'word_freq_people', 'word_freq_report', 'word_freq_addresses', 'word_freq_free', 'word_freq_business', 'word_freq_email', 'word_freq_you', 'word_freq_credit', 'word_freq_your', 'word_freq_font', 'word_freq_000', 'word_freq_money', 'word_freq_hp', 'word_freq_hpl', 'word_freq_george', 'word_freq_650', 'word_freq_lab', 'word_freq_labs', 'word_freq_telnet', 'word_freq_857', 'word_freq_data', 'word_freq_415', 'word_freq_85', 'word_freq_technology', 'word_freq_1999', 'word_freq_parts', 'word_freq_pm', 'word_freq_direct', 'word_freq_cs', 'word_freq_meeting', 'word_freq_original', 'word_freq_project', 'word_freq_re', 'word_freq_edu', 'word_freq_table', 'word_freq_conference', 'char_freq_;', 'char_freq_(', 'char_freq_[', 'char_freq_!', 'char_freq_$', 'char_freq_#', 'capital_run_length_average', 'capital_run_length_longest', 'capital_run_length_total', 'class']\n",
    "\n",
    "# Laden der Daten\n",
    "data = pd.read_csv('spambase.data', names=columns)\n",
    "\n",
    "# Trennung der Zielvariable und der Features\n",
    "X = data.drop(columns='class').values\n",
    "y = data['class']\n",
    "\n",
    "# Funktion zur Durchführung der Rückwärtsauswahl basierend auf p-Werten\n",
    "def backward_selection(X, y, significance_level):\n",
    "    num_features = X.shape[1]\n",
    "    included_features = list(range(num_features))\n",
    "\n",
    "    while True:\n",
    "        X_train = sm.add_constant(X[:, included_features])\n",
    "        model = sm.Logit(y, X_train).fit()\n",
    "        max_pvalue = model.pvalues[1:]  # Ausschluss des konstanten Terms\n",
    "\n",
    "        if max_pvalue.max() < significance_level:\n",
    "            excluded_feature = max_pvalue.idxmax()\n",
    "            if excluded_feature in included_features:\n",
    "                included_features.remove(excluded_feature)\n",
    "            else:\n",
    "                break\n",
    "        else:\n",
    "            break\n",
    "\n",
    "    return included_features\n",
    "\n",
    "# Signifikanzniveau für p-Werte festlegen\n",
    "significance_level = 0.01\n",
    "\n",
    "# Rückwärtsauswahl aufrufen\n",
    "selected_features = backward_selection(X, y, significance_level)\n",
    "\n",
    "# Ausgabe der ausgewählten Features\n",
    "print('Ausgewählte Features:', selected_features)\n",
    "print('Anzahl der ausgewählten Features:', len(selected_features))\n"
   ]
  }
 ],
 "metadata": {
  "kernelspec": {
   "display_name": "Python 3",
   "language": "python",
   "name": "python3"
  },
  "language_info": {
   "codemirror_mode": {
    "name": "ipython",
    "version": 3
   },
   "file_extension": ".py",
   "mimetype": "text/x-python",
   "name": "python",
   "nbconvert_exporter": "python",
   "pygments_lexer": "ipython3",
   "version": "3.10.11"
  },
  "orig_nbformat": 4
 },
 "nbformat": 4,
 "nbformat_minor": 2
}
